{
 "cells": [
  {
   "cell_type": "code",
   "execution_count": 1,
   "metadata": {},
   "outputs": [],
   "source": [
    "import Datasets"
   ]
  },
  {
   "cell_type": "code",
   "execution_count": 34,
   "metadata": {},
   "outputs": [
    {
     "name": "stderr",
     "output_type": "stream",
     "text": [
      "/Users/zdc6/Desktop/twitter/sPFA/Datasets/twitter.py:249: RuntimeWarning: divide by zero encountered in long_scalars\n",
      "  w = [np.float32(1 / e) for e in eff_label_dist]\n",
      "/Users/zdc6/Desktop/twitter/sPFA/Datasets/twitter.py:250: RuntimeWarning: invalid value encountered in divide\n",
      "  return w / np.sum(w)\n"
     ]
    }
   ],
   "source": [
    "data_path = './data/raleigh/'\n",
    "dump_path =  './results/'\n",
    "data_dump_path =  './results/'\n",
    "\n",
    "train_data, test_data = Datasets.load(data_path, data_dump_path)"
   ]
  },
  {
   "cell_type": "code",
   "execution_count": 8,
   "metadata": {},
   "outputs": [
    {
     "data": {
      "text/plain": [
       "<BarContainer object of 21 artists>"
      ]
     },
     "execution_count": 8,
     "metadata": {},
     "output_type": "execute_result"
    },
    {
     "data": {
      "image/png": "[encoded data removed]",
      "text/plain": [
       "<Figure size 640x480 with 1 Axes>"
      ]
     },
     "metadata": {},
     "output_type": "display_data"
    }
   ],
   "source": [
    "from matplotlib import pyplot as plt\n",
    "plt.bar(range(len(train.LDS.weights)), train.LDS.weights)"
   ]
  },
  {
   "cell_type": "code",
   "execution_count": 9,
   "metadata": {},
   "outputs": [
    {
     "ename": "AttributeError",
     "evalue": "module 'os' has no attribute 'listdirs'",
     "output_type": "error",
     "traceback": [
      "\u001b[0;31m---------------------------------------------------------------------------\u001b[0m",
      "\u001b[0;31mAttributeError\u001b[0m                            Traceback (most recent call last)",
      "Cell \u001b[0;32mIn[9], line 2\u001b[0m\n\u001b[1;32m      1\u001b[0m \u001b[39mimport\u001b[39;00m \u001b[39mos\u001b[39;00m\n\u001b[0;32m----> 2\u001b[0m f \u001b[39m=\u001b[39m os\u001b[39m.\u001b[39;49mlistdirs(\u001b[39m'\u001b[39m\u001b[39m~/Desktop/twitter/sPFA/data/raleigh/\u001b[39m\u001b[39m'\u001b[39m)\n",
      "\u001b[0;31mAttributeError\u001b[0m: module 'os' has no attribute 'listdirs'"
     ]
    }
   ],
   "source": [
    "import os\n",
    "f = os.listdir('~/Desktop/twitter/sPFA/data/raleigh/')"
   ]
  },
  {
   "cell_type": "code",
   "execution_count": 11,
   "metadata": {},
   "outputs": [
    {
     "data": {
      "text/html": [
       "<div>\n",
       "<style scoped>\n",
       "    .dataframe tbody tr th:only-of-type {\n",
       "        vertical-align: middle;\n",
       "    }\n",
       "\n",
       "    .dataframe tbody tr th {\n",
       "        vertical-align: top;\n",
       "    }\n",
       "\n",
       "    .dataframe thead th {\n",
       "        text-align: right;\n",
       "    }\n",
       "</style>\n",
       "<table border=\"1\" class=\"dataframe\">\n",
       "  <thead>\n",
       "    <tr style=\"text-align: right;\">\n",
       "      <th></th>\n",
       "      <th>stage</th>\n",
       "      <th>epoch</th>\n",
       "      <th>loss</th>\n",
       "      <th>pnll</th>\n",
       "      <th>mse</th>\n",
       "      <th>kld</th>\n",
       "      <th>time</th>\n",
       "      <th>kld_weight</th>\n",
       "    </tr>\n",
       "  </thead>\n",
       "  <tbody>\n",
       "    <tr>\n",
       "      <th>0</th>\n",
       "      <td>train</td>\n",
       "      <td>0</td>\n",
       "      <td>57.393106</td>\n",
       "      <td>27.761732</td>\n",
       "      <td>29.631374</td>\n",
       "      <td>32.919098</td>\n",
       "      <td>0.026074</td>\n",
       "      <td>0.00</td>\n",
       "    </tr>\n",
       "    <tr>\n",
       "      <th>1</th>\n",
       "      <td>test</td>\n",
       "      <td>0</td>\n",
       "      <td>68.977505</td>\n",
       "      <td>14.578708</td>\n",
       "      <td>54.398796</td>\n",
       "      <td>0.000000</td>\n",
       "      <td>0.000056</td>\n",
       "      <td>0.00</td>\n",
       "    </tr>\n",
       "    <tr>\n",
       "      <th>2</th>\n",
       "      <td>train</td>\n",
       "      <td>1</td>\n",
       "      <td>25.385951</td>\n",
       "      <td>12.430481</td>\n",
       "      <td>12.162876</td>\n",
       "      <td>79.259456</td>\n",
       "      <td>0.025338</td>\n",
       "      <td>0.01</td>\n",
       "    </tr>\n",
       "    <tr>\n",
       "      <th>3</th>\n",
       "      <td>test</td>\n",
       "      <td>1</td>\n",
       "      <td>114.372944</td>\n",
       "      <td>9.599406</td>\n",
       "      <td>104.773537</td>\n",
       "      <td>0.000000</td>\n",
       "      <td>0.000055</td>\n",
       "      <td>0.01</td>\n",
       "    </tr>\n",
       "    <tr>\n",
       "      <th>4</th>\n",
       "      <td>train</td>\n",
       "      <td>2</td>\n",
       "      <td>18.735734</td>\n",
       "      <td>7.323272</td>\n",
       "      <td>8.868262</td>\n",
       "      <td>127.209990</td>\n",
       "      <td>0.027087</td>\n",
       "      <td>0.02</td>\n",
       "    </tr>\n",
       "  </tbody>\n",
       "</table>\n",
       "</div>"
      ],
      "text/plain": [
       "   stage  epoch        loss       pnll         mse         kld      time  \\\n",
       "0  train      0   57.393106  27.761732   29.631374   32.919098  0.026074   \n",
       "1   test      0   68.977505  14.578708   54.398796    0.000000  0.000056   \n",
       "2  train      1   25.385951  12.430481   12.162876   79.259456  0.025338   \n",
       "3   test      1  114.372944   9.599406  104.773537    0.000000  0.000055   \n",
       "4  train      2   18.735734   7.323272    8.868262  127.209990  0.027087   \n",
       "\n",
       "   kld_weight  \n",
       "0        0.00  \n",
       "1        0.00  \n",
       "2        0.01  \n",
       "3        0.01  \n",
       "4        0.02  "
      ]
     },
     "execution_count": 11,
     "metadata": {},
     "output_type": "execute_result"
    }
   ],
   "source": [
    "import pandas as pd\n",
    "\n",
    "df = pd.read_csv('./results/debug/performance.csv')\n",
    "df.head()"
   ]
  },
  {
   "cell_type": "code",
   "execution_count": 14,
   "metadata": {},
   "outputs": [
    {
     "data": {
      "text/plain": [
       "<matplotlib.legend.Legend at 0x168a13d10>"
      ]
     },
     "execution_count": 14,
     "metadata": {},
     "output_type": "execute_result"
    },
    {
     "data": {
      "image/png": "[encoded data removed]",
      "text/plain": [
       "<Figure size 640x480 with 1 Axes>"
      ]
     },
     "metadata": {},
     "output_type": "display_data"
    }
   ],
   "source": [
    "train = df[df['stage'] == 'train']\n",
    "test = df[df['stage'] == 'test']\n",
    "plt.plot(train['loss'], label='train')\n",
    "plt.plot(test['loss'], label='test')\n",
    "plt.legend()"
   ]
  },
  {
   "cell_type": "code",
   "execution_count": 15,
   "metadata": {},
   "outputs": [],
   "source": [
    "import torch"
   ]
  },
  {
   "cell_type": "code",
   "execution_count": 18,
   "metadata": {},
   "outputs": [],
   "source": [
    "state_dict = torch.load('./results/debug/best.pt')"
   ]
  },
  {
   "cell_type": "code",
   "execution_count": 22,
   "metadata": {},
   "outputs": [],
   "source": [
    "import joblib\n",
    "cv = joblib.load('./results/1000/1/0.05/0.8/cv.joblib')"
   ]
  },
  {
   "cell_type": "code",
   "execution_count": 25,
   "metadata": {},
   "outputs": [],
   "source": [
    "import Models\n",
    "model = Models.load('base', {\n",
    "    'vocab': len(cv.vocabulary_),\n",
    "    'num_components': 50\n",
    "})"
   ]
  },
  {
   "cell_type": "code",
   "execution_count": 26,
   "metadata": {},
   "outputs": [
    {
     "data": {
      "text/plain": [
       "<All keys matched successfully>"
      ]
     },
     "execution_count": 26,
     "metadata": {},
     "output_type": "execute_result"
    }
   ],
   "source": [
    "model.load_state_dict(state_dict)"
   ]
  },
  {
   "cell_type": "code",
   "execution_count": 35,
   "metadata": {},
   "outputs": [],
   "source": [
    "from torch.utils.data import DataLoader\n",
    "\n",
    "train_loader = DataLoader(train_data, batch_size=32, shuffle=True)"
   ]
  },
  {
   "cell_type": "code",
   "execution_count": 54,
   "metadata": {},
   "outputs": [],
   "source": [
    "all_ys = []\n",
    "preds = []\n",
    "all_mus = []\n",
    "with torch.no_grad():\n",
    "    for i, (X, y, w) in enumerate(train_loader):\n",
    "        all_ys.extend(y.numpy())\n",
    "        recon, y_hat, mu, logvar = model(X)\n",
    "        preds.extend(y_hat.numpy())\n",
    "        all_mus.extend(mu.numpy())\n",
    "\n"
   ]
  },
  {
   "cell_type": "code",
   "execution_count": 57,
   "metadata": {},
   "outputs": [],
   "source": [
    "# Convert to numpy\n",
    "import numpy as np\n",
    "all_ys = np.array(all_ys)\n",
    "preds = np.array(preds)\n",
    "all_mus = np.array(all_mus)"
   ]
  },
  {
   "cell_type": "code",
   "execution_count": 67,
   "metadata": {},
   "outputs": [
    {
     "data": {
      "text/plain": [
       "array([-0.6823025 , -0.65356076, -0.7671593 , -0.6776243 , -0.609255  ,\n",
       "       -0.6100239 , -0.72163796, -0.7741623 , -0.63629645, -0.7674055 ,\n",
       "       -0.74334556, -0.65342754, -0.77438706, -0.60813385, -0.6311821 ,\n",
       "       -0.7425219 , -0.74906206, -0.632451  , -0.62778425, -0.63992316,\n",
       "       -0.6715553 , -0.6389748 , -0.62554914, -0.73443323, -0.8102192 ,\n",
       "       -0.7026209 , -0.71561503, -0.74136746, -0.66782224, -0.6835369 ,\n",
       "       -0.6669026 , -0.7631065 , -0.7981815 , -0.7518059 , -0.58381104,\n",
       "       -0.7885264 , -0.7914648 , -0.6940112 , -0.64433944, -0.64800143,\n",
       "       -0.72086954, -0.7601166 , -0.7973063 , -0.6528222 , -0.79201424,\n",
       "       -0.6708417 , -0.7489855 , -0.76977056, -0.626215  , -0.82776356],\n",
       "      dtype=float32)"
      ]
     },
     "execution_count": 67,
     "metadata": {},
     "output_type": "execute_result"
    }
   ],
   "source": [
    "# Analyze the output values\n",
    "all_mus.mean(axis=0)"
   ]
  },
  {
   "cell_type": "code",
   "execution_count": 66,
   "metadata": {},
   "outputs": [
    {
     "data": {
      "text/plain": [
       "<BarContainer object of 301 artists>"
      ]
     },
     "execution_count": 66,
     "metadata": {},
     "output_type": "execute_result"
    },
    {
     "data": {
      "image/png": "[encoded data removed]",
      "text/plain": [
       "<Figure size 640x480 with 1 Axes>"
      ]
     },
     "metadata": {},
     "output_type": "display_data"
    }
   ],
   "source": [
    "plt.bar(all_mus[:, 0], all_mus[:, 1])"
   ]
  },
  {
   "cell_type": "code",
   "execution_count": 51,
   "metadata": {},
   "outputs": [],
   "source": [
    "import numpy as np\n",
    "all_ys = np.array(all_ys)\n",
    "preds = np.array(preds)\n",
    "all_mus = np.array(all_mus)"
   ]
  },
  {
   "cell_type": "code",
   "execution_count": 49,
   "metadata": {},
   "outputs": [
    {
     "data": {
      "text/plain": [
       "<matplotlib.collections.PathCollection at 0x16b39a290>"
      ]
     },
     "execution_count": 49,
     "metadata": {},
     "output_type": "execute_result"
    },
    {
     "data": {
      "image/png": "[encoded data removed]",
      "text/plain": [
       "<Figure size 640x480 with 1 Axes>"
      ]
     },
     "metadata": {},
     "output_type": "display_data"
    }
   ],
   "source": [
    "plt.scatter(preds, all_ys)"
   ]
  },
  {
   "cell_type": "code",
   "execution_count": 53,
   "metadata": {},
   "outputs": [
    {
     "data": {
      "text/plain": [
       "(301, 7695)"
      ]
     },
     "execution_count": 53,
     "metadata": {},
     "output_type": "execute_result"
    }
   ],
   "source": [
    "all_mus.shape"
   ]
  }
 ],
 "metadata": {
  "kernelspec": {
   "display_name": "test",
   "language": "python",
   "name": "python3"
  },
  "language_info": {
   "codemirror_mode": {
    "name": "ipython",
    "version": 3
   },
   "file_extension": ".py",
   "mimetype": "text/x-python",
   "name": "python",
   "nbconvert_exporter": "python",
   "pygments_lexer": "ipython3",
   "version": "3.11.0"
  },
  "orig_nbformat": 4,
  "vscode": {
   "interpreter": {
    "hash": "28f539d081f521125525e3b0d8c4d640087edec5ad30d5583b762ab372200f06"
   }
  }
 },
 "nbformat": 4,
 "nbformat_minor": 2
}
